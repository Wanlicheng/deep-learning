{
 "cells": [
  {
   "cell_type": "markdown",
   "metadata": {},
   "source": [
    "# Input data file"
   ]
  },
  {
   "cell_type": "code",
   "execution_count": 242,
   "metadata": {
    "collapsed": true
   },
   "outputs": [],
   "source": [
    "import pandas as pd\n",
    "import numpy as np\n",
    "import matplotlib.pyplot as plt\n",
    "from collections import Counter\n",
    "Path_data='C:\\\\Users\\\\wanli\\\\Desktop\\\\DS Homework\\\\indeed_data_science_exercise\\\\'\n",
    "train_feature=Path_data+'train_features_2013-03-07.csv'\n",
    "train_label=Path_data+'train_salaries_2013-03-07.csv'\n",
    "test_feature=Path_data+'test_features_2013-03-07.csv'\n",
    "test_label=Path_data+'test_salaries.csv'\n",
    "Tdf=pd.read_csv(train_feature)\n",
    "Train_label_df=pd.read_csv(train_label)\n",
    "Tdf['salary']=Train_label_df['salary']#merge label into data for further data cleaning\n",
    "Testdf=pd.read_csv(test_feature)\n",
    "\n",
    "Test_label_df=pd.read_csv(test_label)\n",
    "Testdf['salary']=Test_label_df['salary']"
   ]
  },
  {
   "cell_type": "markdown",
   "metadata": {
    "collapsed": false
   },
   "source": [
    "Analysis Data"
   ]
  },
  {
   "cell_type": "code",
   "execution_count": 243,
   "metadata": {
    "collapsed": false
   },
   "outputs": [
    {
     "data": {
      "image/png": "[encoded data removed]",
      "text/plain": [
       "<matplotlib.figure.Figure at 0x1c4a4f3a978>"
      ]
     },
     "metadata": {},
     "output_type": "display_data"
    }
   ],
   "source": [
    "Dic_salary=Counter(list(Train_label_df['salary']))\n",
    "plt.figure()\n",
    "plt.title('distribution for salaries for train')\n",
    "plt.bar(list(Dic_salary.keys()), Dic_salary.values(), color='g')\n",
    "\n",
    "plt.savefig('salary distribution')\n",
    "plt.show()"
   ]
  },
  {
   "cell_type": "code",
   "execution_count": 244,
   "metadata": {
    "collapsed": true
   },
   "outputs": [],
   "source": [
    "aa=np.array(list(Test_label_df['salary']))"
   ]
  },
  {
   "cell_type": "code",
   "execution_count": 245,
   "metadata": {
    "collapsed": false
   },
   "outputs": [
    {
     "data": {
      "image/png": "[encoded data removed]",
      "text/plain": [
       "<matplotlib.figure.Figure at 0x1c4ce70f400>"
      ]
     },
     "metadata": {},
     "output_type": "display_data"
    }
   ],
   "source": [
    "\n",
    "Dt_salary=Counter(aa.astype(int))\n",
    "plt.title('distribution for salaries for test')\n",
    "plt.bar(list(Dt_salary.keys()), Dt_salary.values(), color='g')\n",
    "plt.show()"
   ]
  },
  {
   "cell_type": "markdown",
   "metadata": {},
   "source": [
    "Preprocess data to get numerical feature ready for training"
   ]
  },
  {
   "cell_type": "code",
   "execution_count": 246,
   "metadata": {
    "collapsed": false
   },
   "outputs": [],
   "source": [
    "def NumericalFeature(Tdf):\n",
    "    #Tdf['zeros']=pd.Series(np.zeros(Tdf.shape[0]))\n",
    "    Tdf['zeros']=0*Tdf['milesFromMetropolis']\n",
    "    degree_set=list(set(Tdf['degree']))\n",
    "    print('0==========================================')\n",
    "    for name in degree_set:\n",
    "        col1='degree'+str(name)\n",
    "        Tdf[col1]=Tdf['zeros'].copy()\n",
    "        Tdf[col1].loc[Tdf.degree==str(name)]=1\n",
    "        \n",
    "    major_set=list(set(Tdf['major']))\n",
    "    \n",
    "    for name in major_set:\n",
    "        col2='major'+str(name)\n",
    "        Tdf[col2]=Tdf['zeros'].copy()\n",
    "        Tdf[col2].loc[Tdf['major']==str(name)]=1\n",
    "    industry_set=list(set(Tdf['industry']))   \n",
    "    for name in industry_set:\n",
    "        col3='industry'+str(name)\n",
    "        Tdf[col3]=Tdf['zeros'].copy()  \n",
    "        Tdf[col3].loc[Tdf.industry==str(name)]=1\n",
    "    Jobtype_set=list(set(Tdf['jobType']))   \n",
    "    for name in Jobtype_set:\n",
    "        col4='jobType'+str(name)\n",
    "        Tdf[col4]=Tdf['zeros'].copy()\n",
    "        Tdf[col4].loc[Tdf.jobType==str(name)]=1\n",
    "    print('1==========================================')\n",
    "    Tdf.loc[:,'company']=Tdf['zeros'].copy()\n",
    "    comid=list(map(lambda x:int(x.lstrip('COMP')),Tdf['companyId'].values ))\n",
    "    Tdf['company']=np.array(comid)\n",
    "    AllFeature=list(set(Tdf.columns)-set(['zeros']))\n",
    "    print('2===================================================')\n",
    "    Ready_df=Tdf[AllFeature].copy()\n",
    "    Ready_df['company'].loc[:]=Ready_df['company'].values/100\n",
    "    Ready_df['milesFromMetropolis'].loc[:]=Ready_df['milesFromMetropolis'].values/100\n",
    "    Ready_df['yearsExperience'].loc[:]=Ready_df['yearsExperience'].values/10\n",
    "    features = list(set(Ready_df.columns[:-1])-set(['salary','jobId','jobType','companyId','degree','major','industry']))\n",
    "    return Ready_df,features"
   ]
  },
  {
   "cell_type": "code",
   "execution_count": 247,
   "metadata": {
    "collapsed": false
   },
   "outputs": [],
   "source": [
    "Tdf['salary'].describe(percentiles=[0.03,0.98])\n",
    "lowb=Tdf['salary'].describe(percentiles=[0.03,0.98])[-4]\n",
    "highb=Tdf['salary'].describe(percentiles=[0.03,0.98])[-2]\n",
    "Tdf=Tdf.ix[Tdf['salary']>lowb]\n",
    "NN=Tdf.ix[Tdf['salary']<highb]"
   ]
  },
  {
   "cell_type": "code",
   "execution_count": 248,
   "metadata": {
    "collapsed": false
   },
   "outputs": [
    {
     "name": "stderr",
     "output_type": "stream",
     "text": [
      "C:\\Users\\wanli\\Anaconda3\\lib\\site-packages\\ipykernel\\__main__.py:3: SettingWithCopyWarning: \n",
      "A value is trying to be set on a copy of a slice from a DataFrame.\n",
      "Try using .loc[row_indexer,col_indexer] = value instead\n",
      "\n",
      "See the caveats in the documentation: http://pandas.pydata.org/pandas-docs/stable/indexing.html#indexing-view-versus-copy\n",
      "  app.launch_new_instance()\n",
      "C:\\Users\\wanli\\Anaconda3\\lib\\site-packages\\ipykernel\\__main__.py:8: SettingWithCopyWarning: \n",
      "A value is trying to be set on a copy of a slice from a DataFrame.\n",
      "Try using .loc[row_indexer,col_indexer] = value instead\n",
      "\n",
      "See the caveats in the documentation: http://pandas.pydata.org/pandas-docs/stable/indexing.html#indexing-view-versus-copy\n",
      "C:\\Users\\wanli\\Anaconda3\\lib\\site-packages\\pandas\\core\\indexing.py:141: SettingWithCopyWarning: \n",
      "A value is trying to be set on a copy of a slice from a DataFrame\n",
      "\n",
      "See the caveats in the documentation: http://pandas.pydata.org/pandas-docs/stable/indexing.html#indexing-view-versus-copy\n",
      "  self._setitem_with_indexer(indexer, value)\n"
     ]
    },
    {
     "name": "stdout",
     "output_type": "stream",
     "text": [
      "0==========================================\n"
     ]
    },
    {
     "name": "stderr",
     "output_type": "stream",
     "text": [
      "C:\\Users\\wanli\\Anaconda3\\lib\\site-packages\\ipykernel\\__main__.py:9: SettingWithCopyWarning: \n",
      "A value is trying to be set on a copy of a slice from a DataFrame\n",
      "\n",
      "See the caveats in the documentation: http://pandas.pydata.org/pandas-docs/stable/indexing.html#indexing-view-versus-copy\n",
      "C:\\Users\\wanli\\Anaconda3\\lib\\site-packages\\ipykernel\\__main__.py:15: SettingWithCopyWarning: \n",
      "A value is trying to be set on a copy of a slice from a DataFrame.\n",
      "Try using .loc[row_indexer,col_indexer] = value instead\n",
      "\n",
      "See the caveats in the documentation: http://pandas.pydata.org/pandas-docs/stable/indexing.html#indexing-view-versus-copy\n",
      "C:\\Users\\wanli\\Anaconda3\\lib\\site-packages\\ipykernel\\__main__.py:16: SettingWithCopyWarning: \n",
      "A value is trying to be set on a copy of a slice from a DataFrame\n",
      "\n",
      "See the caveats in the documentation: http://pandas.pydata.org/pandas-docs/stable/indexing.html#indexing-view-versus-copy\n",
      "C:\\Users\\wanli\\Anaconda3\\lib\\site-packages\\ipykernel\\__main__.py:20: SettingWithCopyWarning: \n",
      "A value is trying to be set on a copy of a slice from a DataFrame.\n",
      "Try using .loc[row_indexer,col_indexer] = value instead\n",
      "\n",
      "See the caveats in the documentation: http://pandas.pydata.org/pandas-docs/stable/indexing.html#indexing-view-versus-copy\n",
      "C:\\Users\\wanli\\Anaconda3\\lib\\site-packages\\ipykernel\\__main__.py:21: SettingWithCopyWarning: \n",
      "A value is trying to be set on a copy of a slice from a DataFrame\n",
      "\n",
      "See the caveats in the documentation: http://pandas.pydata.org/pandas-docs/stable/indexing.html#indexing-view-versus-copy\n",
      "C:\\Users\\wanli\\Anaconda3\\lib\\site-packages\\ipykernel\\__main__.py:25: SettingWithCopyWarning: \n",
      "A value is trying to be set on a copy of a slice from a DataFrame.\n",
      "Try using .loc[row_indexer,col_indexer] = value instead\n",
      "\n",
      "See the caveats in the documentation: http://pandas.pydata.org/pandas-docs/stable/indexing.html#indexing-view-versus-copy\n",
      "C:\\Users\\wanli\\Anaconda3\\lib\\site-packages\\ipykernel\\__main__.py:26: SettingWithCopyWarning: \n",
      "A value is trying to be set on a copy of a slice from a DataFrame\n",
      "\n",
      "See the caveats in the documentation: http://pandas.pydata.org/pandas-docs/stable/indexing.html#indexing-view-versus-copy\n"
     ]
    },
    {
     "name": "stdout",
     "output_type": "stream",
     "text": [
      "1==========================================\n"
     ]
    },
    {
     "name": "stderr",
     "output_type": "stream",
     "text": [
      "C:\\Users\\wanli\\Anaconda3\\lib\\site-packages\\pandas\\core\\indexing.py:297: SettingWithCopyWarning: \n",
      "A value is trying to be set on a copy of a slice from a DataFrame.\n",
      "Try using .loc[row_indexer,col_indexer] = value instead\n",
      "\n",
      "See the caveats in the documentation: http://pandas.pydata.org/pandas-docs/stable/indexing.html#indexing-view-versus-copy\n",
      "  self.obj[key] = _infer_fill_value(value)\n",
      "C:\\Users\\wanli\\Anaconda3\\lib\\site-packages\\pandas\\core\\indexing.py:477: SettingWithCopyWarning: \n",
      "A value is trying to be set on a copy of a slice from a DataFrame.\n",
      "Try using .loc[row_indexer,col_indexer] = value instead\n",
      "\n",
      "See the caveats in the documentation: http://pandas.pydata.org/pandas-docs/stable/indexing.html#indexing-view-versus-copy\n",
      "  self.obj[item] = s\n",
      "C:\\Users\\wanli\\Anaconda3\\lib\\site-packages\\ipykernel\\__main__.py:30: SettingWithCopyWarning: \n",
      "A value is trying to be set on a copy of a slice from a DataFrame.\n",
      "Try using .loc[row_indexer,col_indexer] = value instead\n",
      "\n",
      "See the caveats in the documentation: http://pandas.pydata.org/pandas-docs/stable/indexing.html#indexing-view-versus-copy\n"
     ]
    },
    {
     "name": "stdout",
     "output_type": "stream",
     "text": [
      "2===================================================\n"
     ]
    }
   ],
   "source": [
    "Ready_df,features=NumericalFeature(NN)"
   ]
  },
  {
   "cell_type": "markdown",
   "metadata": {
    "collapsed": false
   },
   "source": [
    "Dic_salary=Counter(list(Train_label_df['salary']))\n",
    "plt.title('distribution for salaries')\n",
    "plt.bar(list(Dic_salary.keys()), Dic_salary.values(), color='g')\n",
    "plt.show()"
   ]
  },
  {
   "cell_type": "code",
   "execution_count": 249,
   "metadata": {
    "collapsed": false
   },
   "outputs": [],
   "source": [
    "#Create Training And Test Data\n",
    "Ready_df['is_train'] = np.random.uniform(0, 1, len(Ready_df)) <= .75"
   ]
  },
  {
   "cell_type": "code",
   "execution_count": 250,
   "metadata": {
    "collapsed": false
   },
   "outputs": [],
   "source": [
    "train, test = Ready_df[Ready_df['is_train']==True], Ready_df[Ready_df['is_train']==False]"
   ]
  },
  {
   "cell_type": "code",
   "execution_count": 251,
   "metadata": {
    "collapsed": false
   },
   "outputs": [
    {
     "name": "stdout",
     "output_type": "stream",
     "text": [
      "['milesFromMetropolis', 'industryHEALTH', 'majorNONE', 'jobTypeJUNIOR', 'industryFINANCE', 'majorCOMPSCI', 'majorLITERATURE', 'industrySERVICE', 'industryOIL', 'yearsExperience', 'jobTypeCTO', 'majorBUSINESS', 'jobTypeVICE_PRESIDENT', 'majorCHEMISTRY', 'majorENGINEERING', 'jobTypeJANITOR', 'degreeDOCTORAL', 'degreeNONE', 'industryAUTO', 'jobTypeCFO', 'majorPHYSICS', 'degreeHIGH_SCHOOL', 'industryWEB', 'degreeBACHELORS', 'majorBIOLOGY', 'jobTypeSENIOR', 'company', 'majorMATH', 'degreeMASTERS', 'jobTypeMANAGER', 'industryEDUCATION', 'jobTypeCEO']\n"
     ]
    }
   ],
   "source": [
    "features = list(set(Ready_df.columns[:-1])-set(['salary','jobId','jobType','companyId','degree','major','industry']))\n",
    "print(features)\n",
    "y_train=train['salary']\n",
    "X_train=train[features]\n",
    "X_test=test[features]\n",
    "y_test=test['salary']"
   ]
  },
  {
   "cell_type": "code",
   "execution_count": 252,
   "metadata": {
    "collapsed": false
   },
   "outputs": [
    {
     "data": {
      "text/plain": [
       "Lasso(alpha=0.1, copy_X=True, fit_intercept=True, max_iter=1000,\n",
       "   normalize=False, positive=False, precompute=False, random_state=None,\n",
       "   selection='cyclic', tol=0.0001, warm_start=False)"
      ]
     },
     "execution_count": 252,
     "metadata": {},
     "output_type": "execute_result"
    }
   ],
   "source": [
    "from sklearn.linear_model import LogisticRegression\n",
    "from sklearn import linear_model\n",
    "lm= linear_model.Lasso(alpha = 0.1)\n",
    "lm.fit(X_train.fillna(0),y_train)"
   ]
  },
  {
   "cell_type": "code",
   "execution_count": 253,
   "metadata": {
    "collapsed": false
   },
   "outputs": [],
   "source": [
    "Train_pre=lm.predict(X_train.fillna(0))"
   ]
  },
  {
   "cell_type": "code",
   "execution_count": 254,
   "metadata": {
    "collapsed": false
   },
   "outputs": [
    {
     "data": {
      "text/plain": [
       "(32,)"
      ]
     },
     "execution_count": 254,
     "metadata": {},
     "output_type": "execute_result"
    }
   ],
   "source": [
    "X_train.columns.shape"
   ]
  },
  {
   "cell_type": "code",
   "execution_count": 255,
   "metadata": {
    "collapsed": false
   },
   "outputs": [],
   "source": [
    "lm.coef_\n",
    "Coef=dict()\n",
    "for i in range(len(lm.coef_)):\n",
    "    Coef[X_train.columns[i]]=lm.coef_[i]"
   ]
  },
  {
   "cell_type": "code",
   "execution_count": 256,
   "metadata": {
    "collapsed": false
   },
   "outputs": [
    {
     "data": {
      "image/png": "[encoded data removed]",
      "text/plain": [
       "<matplotlib.figure.Figure at 0x1c4902a64a8>"
      ]
     },
     "metadata": {},
     "output_type": "display_data"
    }
   ],
   "source": [
    "D=Coef\n",
    "plt.figure()\n",
    "plt.title('coefficients weights')\n",
    "plt.bar(range(len(D)), D.values(), align='center')\n",
    "plt.xticks(range(len(D)), D.keys(),rotation='vertical')\n",
    "plt.savefig('coefficients')\n",
    "plt.show()"
   ]
  },
  {
   "cell_type": "code",
   "execution_count": 258,
   "metadata": {
    "collapsed": false
   },
   "outputs": [
    {
     "data": {
      "text/plain": [
       "358.3759721349801"
      ]
     },
     "execution_count": 258,
     "metadata": {},
     "output_type": "execute_result"
    }
   ],
   "source": [
    "np.mean((Train_pre-y_train)**2)"
   ]
  },
  {
   "cell_type": "code",
   "execution_count": 259,
   "metadata": {
    "collapsed": false
   },
   "outputs": [
    {
     "data": {
      "text/plain": [
       "357.1285466213389"
      ]
     },
     "execution_count": 259,
     "metadata": {},
     "output_type": "execute_result"
    }
   ],
   "source": [
    "Test_pre=lm.predict(X_test.fillna(0))\n",
    "np.mean((Test_pre-y_test)**2)"
   ]
  },
  {
   "cell_type": "code",
   "execution_count": 260,
   "metadata": {
    "collapsed": false
   },
   "outputs": [
    {
     "data": {
      "image/png": "[encoded data removed]",
      "text/plain": [
       "<matplotlib.figure.Figure at 0x1c4a51ba438>"
      ]
     },
     "metadata": {},
     "output_type": "display_data"
    }
   ],
   "source": [
    "plt.figure()\n",
    "plt.scatter(lm.predict(X_test[0:100000]),lm.predict(X_test[0:100000])-y_test[0:100000],c='b',s=40,alpha=0.5)\n",
    "plt.xlabel('salary')\n",
    "plt.ylabel('predict salary - salary')\n",
    "plt.savefig('Scatter for distance between predict salary and real salary')\n",
    "plt.show()"
   ]
  },
  {
   "cell_type": "code",
   "execution_count": 261,
   "metadata": {
    "collapsed": false
   },
   "outputs": [
    {
     "name": "stdout",
     "output_type": "stream",
     "text": [
      "0==========================================\n"
     ]
    },
    {
     "name": "stderr",
     "output_type": "stream",
     "text": [
      "C:\\Users\\wanli\\Anaconda3\\lib\\site-packages\\pandas\\core\\indexing.py:141: SettingWithCopyWarning: \n",
      "A value is trying to be set on a copy of a slice from a DataFrame\n",
      "\n",
      "See the caveats in the documentation: http://pandas.pydata.org/pandas-docs/stable/indexing.html#indexing-view-versus-copy\n",
      "  self._setitem_with_indexer(indexer, value)\n"
     ]
    },
    {
     "name": "stdout",
     "output_type": "stream",
     "text": [
      "1==========================================\n",
      "2===================================================\n"
     ]
    }
   ],
   "source": [
    "Testdata,features=NumericalFeature(Testdf)"
   ]
  },
  {
   "cell_type": "code",
   "execution_count": 264,
   "metadata": {
    "collapsed": false
   },
   "outputs": [
    {
     "name": "stderr",
     "output_type": "stream",
     "text": [
      "C:\\Users\\wanli\\Anaconda3\\lib\\site-packages\\pandas\\core\\indexing.py:141: SettingWithCopyWarning: \n",
      "A value is trying to be set on a copy of a slice from a DataFrame\n",
      "\n",
      "See the caveats in the documentation: http://pandas.pydata.org/pandas-docs/stable/indexing.html#indexing-view-versus-copy\n",
      "  self._setitem_with_indexer(indexer, value)\n"
     ]
    }
   ],
   "source": [
    "#save predict data\n",
    "MSE=np.mean((Test_label_df['salary']-lm.predict(Testdata[features]))**2)\n",
    "Test_seriers=lm.predict(Testdata[features])\n",
    "Test_label_df['salary'].loc[:]=pd.Series(Test_seriers)\n",
    "Test_label_df.to_csv('predict_test.csv',index=False)"
   ]
  },
  {
   "cell_type": "code",
   "execution_count": null,
   "metadata": {
    "collapsed": false
   },
   "outputs": [],
   "source": [
    "Tsave=pd.DataFrame(columns=['jobId','salary'])\n",
    "Tsave['jobId']=Test_label_df['jobId'].copy()\n",
    "Tsave['salary']=Test_seriers\n"
   ]
  },
  {
   "cell_type": "code",
   "execution_count": null,
   "metadata": {
    "collapsed": false
   },
   "outputs": [],
   "source": [
    "Tsave.to_csv('predict_test.csv')"
   ]
  }
 ],
 "metadata": {
  "kernelspec": {
   "display_name": "Python 3",
   "language": "python",
   "name": "python3"
  },
  "language_info": {
   "codemirror_mode": {
    "name": "ipython",
    "version": 3
   },
   "file_extension": ".py",
   "mimetype": "text/x-python",
   "name": "python",
   "nbconvert_exporter": "python",
   "pygments_lexer": "ipython3",
   "version": "3.6.0"
  }
 },
 "nbformat": 4,
 "nbformat_minor": 2
}
